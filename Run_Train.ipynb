{
 "cells": [
  {
   "cell_type": "code",
   "execution_count": 5,
   "metadata": {},
   "outputs": [],
   "source": [
    "import matplotlib.pyplot as plt\n",
    "import torch.utils.data.dataloader\n",
    "from torch.utils.tensorboard import SummaryWriter\n",
    "import random\n",
    "from torchsummary import summary\n",
    "import os, sys\n",
    "from print_utils import *\n",
    "from data_utils import *\n",
    "from loss_utils import *\n",
    "from model_utils import *\n",
    "from tb_utils import *\n",
    "from metrics_utils import *\n",
    "from config import *\n",
    "import torch\n",
    "import numpy as np\n",
    "import json\n",
    "import pandas as pd\n",
    "from measure import *\n",
    "import gc\n",
    "from Train_Main_New import *"
   ]
  },
  {
   "cell_type": "code",
   "execution_count": 6,
   "metadata": {},
   "outputs": [
    {
     "ename": "FileNotFoundError",
     "evalue": "[Errno 2] No such file or directory: '/storage/home/antica/PYTHON_projekti/Agrovision_Torch/AgroVision_Net/logs/ipykernel_launcher'",
     "output_type": "error",
     "traceback": [
      "\u001b[0;31m---------------------------------------------------------------------------\u001b[0m",
      "\u001b[0;31mFileNotFoundError\u001b[0m                         Traceback (most recent call last)",
      "\u001b[1;32m/home/antica/PYTHON_projekti/Agrovision_Torch/AgroVision_Net/Run_Train.ipynb Cell 2\u001b[0m in \u001b[0;36m<cell line: 9>\u001b[0;34m()\u001b[0m\n\u001b[1;32m     <a href='vscode-notebook-cell://ssh-remote%2Bmileva.biosense.rs/home/antica/PYTHON_projekti/Agrovision_Torch/AgroVision_Net/Run_Train.ipynb#ch0000003vscode-remote?line=12'>13</a>\u001b[0m \u001b[39mfor\u001b[39;00m lambd_index \u001b[39min\u001b[39;00m \u001b[39mrange\u001b[39m(\u001b[39mlen\u001b[39m(\n\u001b[1;32m     <a href='vscode-notebook-cell://ssh-remote%2Bmileva.biosense.rs/home/antica/PYTHON_projekti/Agrovision_Torch/AgroVision_Net/Run_Train.ipynb#ch0000003vscode-remote?line=13'>14</a>\u001b[0m         lambda_parametar)):  \u001b[39m# petlja kojom ispitujemo kako se trening menja za razlicite labmda parametre kojim mnozimo lr kada dodje do ispunjavanja uslova za scheduler.step(loss)\u001b[39;00m\n\u001b[1;32m     <a href='vscode-notebook-cell://ssh-remote%2Bmileva.biosense.rs/home/antica/PYTHON_projekti/Agrovision_Torch/AgroVision_Net/Run_Train.ipynb#ch0000003vscode-remote?line=14'>15</a>\u001b[0m     \u001b[39mfor\u001b[39;00m lr_index \u001b[39min\u001b[39;00m \u001b[39mrange\u001b[39m(\u001b[39mlen\u001b[39m(lr)):  \u001b[39m# petlja kojom ispitujemo kako se trening menja za razlicite lr-ove\u001b[39;00m\n\u001b[0;32m---> <a href='vscode-notebook-cell://ssh-remote%2Bmileva.biosense.rs/home/antica/PYTHON_projekti/Agrovision_Torch/AgroVision_Net/Run_Train.ipynb#ch0000003vscode-remote?line=15'>16</a>\u001b[0m         main(lambda_parametar[lambd_index], stepovi_arr[step_index], lr[lr_index], p_index)\n",
      "File \u001b[0;32m/storage/home/antica/PYTHON_projekti/Agrovision_Torch/AgroVision_Net/Train_Main_New.py:53\u001b[0m, in \u001b[0;36mmain\u001b[0;34m(lambda_parametri, stepovi, lr, p_index)\u001b[0m\n\u001b[1;32m     50\u001b[0m base_folder_path \u001b[39m=\u001b[39m os\u001b[39m.\u001b[39mgetcwd()\n\u001b[1;32m     51\u001b[0m base_folder_path \u001b[39m=\u001b[39m base_folder_path\u001b[39m.\u001b[39mreplace(\u001b[39m\"\u001b[39m\u001b[39m\\\\\u001b[39;00m\u001b[39m\"\u001b[39m, \u001b[39m\"\u001b[39m\u001b[39m/\u001b[39m\u001b[39m\"\u001b[39m)\n\u001b[0;32m---> 53\u001b[0m ime_foldera_za_upis, logs_path, save_model_path \u001b[39m=\u001b[39m pretraining_prints(p_index, lr, stepovi, lambda_parametri,\n\u001b[1;32m     54\u001b[0m                                                                      batch_size, loss_type, net_type)\n\u001b[1;32m     56\u001b[0m \u001b[39m####################\u001b[39;00m\n\u001b[1;32m     57\u001b[0m \u001b[39m### data loading ###\u001b[39;00m\n\u001b[1;32m     58\u001b[0m \u001b[39m####################\u001b[39;00m\n\u001b[1;32m     60\u001b[0m train_loader, valid_loader, test_loader \u001b[39m=\u001b[39m data_loading(ime_foldera_za_upis, numpy_path, numpy_valid_path, binary,\n\u001b[1;32m     61\u001b[0m                                                        background_flag)\n",
      "File \u001b[0;32m/storage/home/antica/PYTHON_projekti/Agrovision_Torch/AgroVision_Net/print_utils.py:21\u001b[0m, in \u001b[0;36mpretraining_prints\u001b[0;34m(p_index, lr, stepovi, lambda_parametri, batch_size, loss_type, net_type)\u001b[0m\n\u001b[1;32m     19\u001b[0m logs_path \u001b[39m=\u001b[39m base_folder_path \u001b[39m+\u001b[39m \u001b[39m\"\u001b[39m\u001b[39m/logs/\u001b[39m\u001b[39m\"\u001b[39m \u001b[39m+\u001b[39m script_name\n\u001b[1;32m     20\u001b[0m \u001b[39mif\u001b[39;00m \u001b[39mnot\u001b[39;00m os\u001b[39m.\u001b[39mpath\u001b[39m.\u001b[39mexists(logs_path):\n\u001b[0;32m---> 21\u001b[0m     os\u001b[39m.\u001b[39;49mmkdir(logs_path)\n\u001b[1;32m     22\u001b[0m \u001b[39mglobal\u001b[39;00m scheduler_lr\n\u001b[1;32m     23\u001b[0m \u001b[39m# logs_path = base_folder_path + \"/logs/\" + script_name + \"/\" + today  # path to the folder that we want to save the logs for Tensorboard\u001b[39;00m\n",
      "\u001b[0;31mFileNotFoundError\u001b[0m: [Errno 2] No such file or directory: '/storage/home/antica/PYTHON_projekti/Agrovision_Torch/AgroVision_Net/logs/ipykernel_launcher'"
     ]
    }
   ],
   "source": [
    "    # lr = [1e-2,1e-3,1e-4]\n",
    "    lr = [1e-3]\n",
    "    lambda_parametar = [1]\n",
    "    stepovi_arr = [5]\n",
    "    # classes_labels2 = ['background','foreground']\n",
    "    # classes_labels2 = ['background','cloud_shadow','double_plant','planter_skip','standing_water','waterway','weed_cluster']\n",
    "    uporedna_tabela = pd.DataFrame()\n",
    "    param_ponovljivosti = 1\n",
    "    for p_index in range(\n",
    "            param_ponovljivosti):  # petlja kojom ispitujemo ponovljivost istog eksperimenta, p_idex - broj trenutne iteracije\n",
    "        for step_index in range(len(\n",
    "                stepovi_arr)):  # petlja kojom ispitujemo kako se trening menja za razlicite korake promene lr-a, step = broj iteracija nakon kojeg ce se odraditi scheduler.step(loss)\n",
    "            for lambd_index in range(len(\n",
    "                    lambda_parametar)):  # petlja kojom ispitujemo kako se trening menja za razlicite labmda parametre kojim mnozimo lr kada dodje do ispunjavanja uslova za scheduler.step(loss)\n",
    "                for lr_index in range(len(lr)):  # petlja kojom ispitujemo kako se trening menja za razlicite lr-ove\n",
    "                    main(lambda_parametar[lambd_index], stepovi_arr[step_index], lr[lr_index], p_index)"
   ]
  }
 ],
 "metadata": {
  "kernelspec": {
   "display_name": "Python 3.8.0 ('torch_env')",
   "language": "python",
   "name": "python3"
  },
  "language_info": {
   "codemirror_mode": {
    "name": "ipython",
    "version": 3
   },
   "file_extension": ".py",
   "mimetype": "text/x-python",
   "name": "python",
   "nbconvert_exporter": "python",
   "pygments_lexer": "ipython3",
   "version": "3.8.0"
  },
  "orig_nbformat": 4,
  "vscode": {
   "interpreter": {
    "hash": "3dcf170130a8aa470b2fcd4e3da3605486d74d7b3b787437afcbe4e61198849d"
   }
  }
 },
 "nbformat": 4,
 "nbformat_minor": 2
}
